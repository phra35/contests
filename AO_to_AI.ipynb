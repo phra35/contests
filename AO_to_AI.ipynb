{
 "cells": [
  {
   "cell_type": "markdown",
   "metadata": {},
   "source": [
    "# From AO to AI: Predicting How Points End in Tennis\n",
    "[Hosted by CrowdANALYTIX](https://crowdanalytix.com/contests/from-ao-to-ai--predicting-how-points-end-in-tennis)"
   ]
  },
  {
   "cell_type": "markdown",
   "metadata": {},
   "source": [
    "## Libraries and helper function"
   ]
  },
  {
   "cell_type": "code",
   "execution_count": 1,
   "metadata": {},
   "outputs": [],
   "source": [
    "import pandas as pd\n",
    "import matplotlib.pyplot as plt\n",
    "%matplotlib inline\n",
    "from sklearn.ensemble import GradientBoostingClassifier\n",
    "from sklearn.model_selection import GridSearchCV\n",
    "from sklearn.model_selection import StratifiedKFold\n",
    "from sklearn.preprocessing import PolynomialFeatures\n",
    "from sklearn.preprocessing import LabelEncoder\n",
    "from sklearn.model_selection import train_test_split\n",
    "from sklearn.metrics import log_loss\n",
    "from tqdm import tqdm\n",
    "from os import listdir\n",
    "pd.options.mode.chained_assignment = None"
   ]
  },
  {
   "cell_type": "code",
   "execution_count": 2,
   "metadata": {},
   "outputs": [],
   "source": [
    "def permutation_importances(clf, Xtest, ytest, iters = 1):\n",
    "    ll = log_loss(ytest, clf.predict_proba(Xtest))\n",
    "    pimp = []\n",
    "    for column in tqdm(Xtest.columns, desc = 'Calculating importances'):\n",
    "        diffs = 0\n",
    "        Xtemp = Xtest.copy()\n",
    "        for _ in range(iters):\n",
    "            Xtemp[column] = Xtemp[column].sample(frac = 1.0).values\n",
    "            diffs += log_loss(ytest, clf.predict_proba(Xtemp)) - ll\n",
    "        pimp.append(diffs / iters)\n",
    "    return pimp"
   ]
  },
  {
   "cell_type": "markdown",
   "metadata": {},
   "source": [
    "## Load data"
   ]
  },
  {
   "cell_type": "code",
   "execution_count": 3,
   "metadata": {},
   "outputs": [],
   "source": [
    "# All the data (training and testing) is lumped together\n",
    "# The `outcome` feature will be NULL for the testing set\n",
    "df = pd.read_csv('mens_train_file.csv').append(\n",
    "    pd.read_csv('womens_train_file.csv'), \n",
    "    ignore_index = True\n",
    ").append(\n",
    "    pd.read_csv('mens_test_file.csv'), \n",
    "    ignore_index = True\n",
    ").append(\n",
    "    pd.read_csv('womens_test_file.csv'), \n",
    "    ignore_index = True\n",
    ").drop(['train'], 1)\n",
    "\n",
    "# Get the names of the numerical features, and the others\n",
    "ncols = [\n",
    "    c for c in df.columns \n",
    "    if df[c].dtype != object \n",
    "    and c not in ['id', 'train']\n",
    "]\n",
    "ocols = list(set(df.columns) - set(ncols))\n",
    "\n",
    "# Build interaction features (i.e. products of numerical features)\n",
    "poly = PolynomialFeatures(\n",
    "    degree = 2, interaction_only = True, include_bias = False\n",
    ")\n",
    "\n",
    "# Attach the interaction features to the data set\n",
    "df_ = pd.DataFrame(\n",
    "    poly.fit_transform(df[ncols]),\n",
    "    columns = poly.get_feature_names(ncols)\n",
    ")\n",
    "df = df[ocols].join(df_).assign(\n",
    "    submission_id = df.id.astype(str) + '_' + df.gender\n",
    ").set_index('submission_id').drop('id', 1)\n",
    "\n",
    "# Encode some of the features numerically according to outcomes\n",
    "for c in ['hitpoint', 'previous.hitpoint', 'gender']:\n",
    "    temp = pd.get_dummies(df[df.outcome.notnull()][['outcome']])\n",
    "    temp[c] = df[df.outcome.notnull()][c]\n",
    "    temp = temp.groupby(c).mean()\n",
    "    for d in temp.columns:\n",
    "        df[c + '_' + d] = df.join(temp, on = c)[d]\n",
    "    df = df.drop(c, 1)\n",
    "    \n",
    "# Finish processing the training features and targets\n",
    "encoder = LabelEncoder()\n",
    "X = df[df.outcome.notnull()].drop('outcome', 1)\n",
    "y = encoder.fit_transform(df[df.outcome.notnull()].outcome)"
   ]
  },
  {
   "cell_type": "markdown",
   "metadata": {},
   "source": [
    "## Build the model"
   ]
  },
  {
   "cell_type": "code",
   "execution_count": 4,
   "metadata": {
    "scrolled": true
   },
   "outputs": [
    {
     "name": "stdout",
     "output_type": "stream",
     "text": [
      "Fitting 3 folds for each of 11 candidates, totalling 33 fits\n"
     ]
    },
    {
     "name": "stderr",
     "output_type": "stream",
     "text": [
      "[Parallel(n_jobs=-2)]: Done  33 out of  33 | elapsed: 17.3min finished\n",
      "Calculating importances: 100%|███████████████| 262/262 [02:38<00:00,  1.65it/s]\n"
     ]
    }
   ],
   "source": [
    "# Use temporary training & test sets drawn from the labeled data...\n",
    "Xtrain, Xtest, ytrain, ytest = train_test_split(\n",
    "    X, y,\n",
    "    stratify = y\n",
    ")\n",
    "\n",
    "# ...and a temporary classifier...\n",
    "clf = GridSearchCV(\n",
    "    estimator = GradientBoostingClassifier(),\n",
    "    param_grid = {'n_estimators' : range(100,201,10)}, \n",
    "    scoring = 'neg_log_loss', n_jobs = -2, verbose = 1\n",
    ").fit(Xtrain, ytrain).best_estimator_\n",
    "\n",
    "# ...to calculate feature importances\n",
    "imp = permutation_importances(clf, Xtest, ytest, iters = 10)"
   ]
  },
  {
   "cell_type": "code",
   "execution_count": 5,
   "metadata": {},
   "outputs": [
    {
     "data": {
      "image/png": "[encoded data removed]",
      "text/plain": [
       "<matplotlib.figure.Figure at 0xb34bd68>"
      ]
     },
     "metadata": {},
     "output_type": "display_data"
    }
   ],
   "source": [
    "# Visualize the importances found\n",
    "plt.rcParams['figure.figsize'] = 20,4\n",
    "plt.rcParams['font.size'] = 10\n",
    "plt.bar(\n",
    "    x = range(len(imp)),\n",
    "    height = sorted(imp, reverse = True),\n",
    "    log = True\n",
    ")\n",
    "plt.xlim([-1, len(imp)])\n",
    "posimp = len([i for i in imp if i > 0])\n",
    "plt.title('Feature importances (%d of %d positive)' % (posimp, len(imp)))\n",
    "plt.grid()\n",
    "plt.show()"
   ]
  },
  {
   "cell_type": "code",
   "execution_count": 6,
   "metadata": {},
   "outputs": [],
   "source": [
    "# Prepare the actual model: a pipeline cosisting of a custom \n",
    "# feature selector and a gradient boosted trees classifier\n",
    "from sklearn.pipeline import Pipeline\n",
    "from tools import scores\n",
    "from sklearn.feature_selection import SelectKBest\n",
    "\n",
    "pipe = Pipeline([\n",
    "    ('selector'  , SelectKBest(scores(imp))),\n",
    "    ('estimator' , GradientBoostingClassifier())\n",
    "])"
   ]
  },
  {
   "cell_type": "code",
   "execution_count": 7,
   "metadata": {},
   "outputs": [
    {
     "name": "stdout",
     "output_type": "stream",
     "text": [
      "Fitting 3 folds for each of 36 candidates, totalling 108 fits\n"
     ]
    },
    {
     "name": "stderr",
     "output_type": "stream",
     "text": [
      "[Parallel(n_jobs=-2)]: Done  26 tasks      | elapsed:  2.1min\n",
      "[Parallel(n_jobs=-2)]: Done 108 out of 108 | elapsed: 11.9min finished\n"
     ]
    },
    {
     "name": "stdout",
     "output_type": "stream",
     "text": [
      "Best CV score 0.320507518534\n"
     ]
    },
    {
     "data": {
      "text/plain": [
       "{'estimator__learning_rate': 0.1,\n",
       " 'estimator__max_depth': 4,\n",
       " 'estimator__max_features': 16,\n",
       " 'estimator__min_samples_leaf': 2,\n",
       " 'estimator__min_samples_split': 16,\n",
       " 'estimator__n_estimators': 135,\n",
       " 'estimator__subsample': 0.9,\n",
       " 'selector__k': 180}"
      ]
     },
     "execution_count": 7,
     "metadata": {},
     "output_type": "execute_result"
    }
   ],
   "source": [
    "# Hyperparameter tuning by cross-validation\n",
    "# (This cell is edited and run many times to tune the hyperparameters)\n",
    "gs = GridSearchCV(\n",
    "    estimator = pipe,\n",
    "    param_grid = {\n",
    "        'estimator__learning_rate'     : [.1], \n",
    "        'estimator__max_depth'         : [4], \n",
    "        'estimator__max_features'      : [16],\n",
    "        'estimator__min_samples_leaf'  : [2], \n",
    "        'estimator__min_samples_split' : [16], \n",
    "        'estimator__n_estimators'      : range(120,300,5), \n",
    "        'estimator__subsample'         : [.9],\n",
    "        'selector__k'                  : [180],        \n",
    "    }, \n",
    "    scoring = 'neg_log_loss', \n",
    "    cv = StratifiedKFold(shuffle = True),\n",
    "    n_jobs = -2, \n",
    "    verbose = 3\n",
    ")\n",
    "gs.fit(X, y)\n",
    "clf = gs.best_estimator_\n",
    "print('Best CV score', -gs.best_score_)\n",
    "gs.best_params_"
   ]
  },
  {
   "cell_type": "markdown",
   "metadata": {},
   "source": [
    "## Output the predictions"
   ]
  },
  {
   "cell_type": "code",
   "execution_count": 8,
   "metadata": {
    "scrolled": true
   },
   "outputs": [],
   "source": [
    "# Get the predictions ready\n",
    "pred = clf.predict_proba(df[df.outcome.isnull()].drop('outcome', 1))\n",
    "output = df[df.outcome.isnull()]\n",
    "for i in range(3):\n",
    "    output[encoder.inverse_transform(i)] = pred[:, i]\n",
    "output = output.assign(train = 0).reset_index()\n",
    "output = output[['submission_id', 'train', 'UE', 'FE', 'W']]"
   ]
  },
  {
   "cell_type": "code",
   "execution_count": 9,
   "metadata": {},
   "outputs": [],
   "source": [
    "# Put the predictions into the required format\n",
    "output = pd.read_csv('AUS_SubmissionFormat.csv').join(\n",
    "    output.set_index('submission_id'),\n",
    "    on = 'submission_id',\n",
    "    lsuffix = '_template'\n",
    ")\n",
    "\n",
    "# Save the predictions to CSV using the first available file name\n",
    "last = max(\n",
    "    int(f.split('.')[0].strip('attempt')) for f in listdir() \n",
    "    if f.startswith('attempt') and f.endswith('.csv')\n",
    ")\n",
    "output.drop([\n",
    "    c for c in output.columns if '_template' in c\n",
    "], 1).to_csv('attempt%s.csv' % (str(last + 1).zfill(3)), index = False)"
   ]
  }
 ],
 "metadata": {
  "kernelspec": {
   "display_name": "Python 3",
   "language": "python",
   "name": "python3"
  },
  "language_info": {
   "codemirror_mode": {
    "name": "ipython",
    "version": 3
   },
   "file_extension": ".py",
   "mimetype": "text/x-python",
   "name": "python",
   "nbconvert_exporter": "python",
   "pygments_lexer": "ipython3",
   "version": "3.6.4"
  }
 },
 "nbformat": 4,
 "nbformat_minor": 2
}
