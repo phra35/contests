{
 "cells": [
  {
   "cell_type": "markdown",
   "metadata": {},
   "source": [
    "# Pover-T Tests: Predicting Poverty\n",
    "[Hosted by DrivenData](https://www.drivendata.org/competitions/50/worldbank-poverty-prediction/leaderboard/)"
   ]
  },
  {
   "cell_type": "markdown",
   "metadata": {},
   "source": [
    "## Libraries and and helper functions"
   ]
  },
  {
   "cell_type": "code",
   "execution_count": 1,
   "metadata": {},
   "outputs": [],
   "source": [
    "# For data manipulation and feature engineering\n",
    "import pandas as pd\n",
    "from sklearn.preprocessing import LabelEncoder\n",
    "from itertools import combinations\n",
    "\n",
    "# For calculating feature importances\n",
    "from sklearn.model_selection import train_test_split\n",
    "from sklearn.ensemble import RandomForestClassifier\n",
    "from sklearn.metrics import log_loss\n",
    "from tqdm import tqdm\n",
    "\n",
    "# For hyperparameter tuning\n",
    "from sklearn.model_selection import GridSearchCV\n",
    "from sklearn.model_selection import StratifiedKFold\n",
    "import matplotlib.pyplot as plt\n",
    "%matplotlib inline\n",
    "\n",
    "# For building the actual models (each one will be a pipeline consisting \n",
    "# of a custom feature selector and a gradient boosted classifier)\n",
    "from sklearn.pipeline import Pipeline\n",
    "from tools import scores # helper function for feature selector\n",
    "from sklearn.feature_selection import SelectKBest\n",
    "from sklearn.ensemble import GradientBoostingClassifier\n",
    "\n",
    "# For exporting the predictions\n",
    "from os import listdir\n",
    "\n",
    "# Hide some warnings\n",
    "import warnings\n",
    "warnings.simplefilter(action = 'ignore', category = FutureWarning)\n",
    "pd.options.mode.chained_assignment = None"
   ]
  },
  {
   "cell_type": "code",
   "execution_count": 2,
   "metadata": {},
   "outputs": [],
   "source": [
    "# Load and process the data for country with the given letter\n",
    "def load_data(letter):\n",
    "    prefix = 'Pover-T_Tests_Predicting_Poverty_-_Country_'\n",
    "    \n",
    "    # Household-level data\n",
    "    dfh = pd.read_csv(\n",
    "        prefix + letter + '_Household_Train.csv'\n",
    "    ).set_index(['id','country'])\n",
    "    \n",
    "    # Individual-level data\n",
    "    dfi = pd.read_csv(\n",
    "        prefix + letter + '_Individual_Train.csv'\n",
    "    ).drop('poor', 1)\n",
    "\n",
    "    # For simplicity, the testing/unlabeled data is appended with label -1\n",
    "    # (I would not typically do this in a real-life situation...)\n",
    "    dfh = dfh.append(\n",
    "        pd.read_csv(\n",
    "            prefix + letter + '_Household_Test.csv' \n",
    "        ).set_index(['id','country']).assign(poor = -1)\n",
    "    )\n",
    "    dfi = dfi.append(\n",
    "        pd.read_csv(\n",
    "            prefix + letter + '_Individual_Test.csv'\n",
    "        ).assign(poor = -1)\n",
    "    )\n",
    "\n",
    "    # Get the non-numerical column names from the household-level data\n",
    "    cols = [c for c in dfh.columns if dfh[c].dtype == object]\n",
    "    \n",
    "    # The rest are numerical (except the label column)\n",
    "    ncols = [c for c in dfh.columns if c not in cols and c != 'poor']\n",
    "\n",
    "    # Make dummy variables from the non-numerical individual-level data\n",
    "    # (except for country, which isn't really a feature)\n",
    "    dfi = pd.get_dummies(\n",
    "        dfi, \n",
    "        dummy_na = True, \n",
    "        columns = [\n",
    "            c for c in dfi.columns \n",
    "            if dfi[c].dtype == object \n",
    "            and c != 'country'\n",
    "        ]\n",
    "    )\n",
    "\n",
    "    # Create rules for aggregating the individual-level data by household\n",
    "    groupdict = {}\n",
    "    for c in dfi.columns:\n",
    "        # Do nothing with country, household id, or \"poor\" flag\n",
    "        if c in ['country', 'id', 'poor']: continue\n",
    "        # Count the individuals in each household\n",
    "        if c == 'iid': groupdict[c] = 'count'\n",
    "        # Sum any discrete numerical features by household\n",
    "        elif dfi[c].dtype in ['uint8', 'int64']: groupdict[c] = 'sum'\n",
    "        # Take the household mean for each of the rest\n",
    "        else: groupdict[c] = 'mean'\n",
    "\n",
    "    # Attach the aggregated individual-level features to each household\n",
    "    dfh = dfh.join(\n",
    "        dfi.groupby(['id','country']).agg(groupdict),\n",
    "        rsuffix = '_i'\n",
    "    )\n",
    "\n",
    "    # Calculate some new features by taking the product, difference, \n",
    "    # and sum of each pair of household-level numerical features\n",
    "    for c1, c2 in combinations(ncols, 2):\n",
    "        dfh['%s__times__%s' % (c1, c2)] = dfh[c1] * dfh[c2]    \n",
    "        dfh['%s__minus__%s' % (c1, c2)] = dfh[c1] - dfh[c2]\n",
    "        dfh['%s__plus__%s' % (c1, c2)]  = dfh[c1] + dfh[c2]\n",
    "\n",
    "    # Drop any feature taht takes on only one value\n",
    "    to_drop = []\n",
    "    for c in dfh.columns: \n",
    "        if len(dfh[c].unique()) <= 1: to_drop.append(c)\n",
    "    dfh = dfh.drop(to_drop, 1)\n",
    "\n",
    "    # Get the targets\n",
    "    y = dfh.poor.astype(int)\n",
    "\n",
    "    # Encode the non-numerical features according to \n",
    "    # their corresponding poverty rate\n",
    "    for c in [col for col in dfh.columns if dfh[col].dtype == object]:\n",
    "        temp = dfh[y >= 0][[c, 'poor']].groupby(c).mean()\n",
    "        dfh[c] = dfh.join(temp, on = c, rsuffix = '_avg').poor_avg\n",
    "\n",
    "    # Return the features and targets\n",
    "    X = dfh.fillna(-999999).drop('poor', 1)\n",
    "    return X, y\n"
   ]
  },
  {
   "cell_type": "code",
   "execution_count": 3,
   "metadata": {},
   "outputs": [],
   "source": [
    "# Permutation importances from a test set and classifier, based on log loss\n",
    "def permutation_importances(clf, Xtest, ytest, iters = 1, progress = True):\n",
    "    ll = log_loss(ytest, clf.predict_proba(Xtest))\n",
    "    p_imp = []\n",
    "    for column in tqdm(\n",
    "        Xtest.columns, \n",
    "        desc = 'Calculating importances'\n",
    "    ) if progress else Xtest.columns:\n",
    "        diffs = 0\n",
    "        Xtemp = Xtest.copy()\n",
    "        for _ in range(iters):\n",
    "            Xtemp[column] = Xtemp[column].sample(frac = 1.0).values\n",
    "            diffs += log_loss(ytest, clf.predict_proba(Xtemp)) - ll\n",
    "        p_imp.append(diffs / iters)\n",
    "    return p_imp\n",
    "\n",
    "# Calculate permutation importances in batches (for large number of features)\n",
    "def batch_importances(X, y, chunk = 50):\n",
    "    Xtrain, Xtest, ytrain, ytest = train_test_split(\n",
    "        X, y, \n",
    "        test_size = .2, \n",
    "        stratify = y\n",
    "    )\n",
    "    p_imp = []\n",
    "    for i in tqdm(\n",
    "        range(0, len(X.columns), chunk), \n",
    "        desc = 'Calculating importances in batches'\n",
    "    ):\n",
    "        clf = RandomForestClassifier(\n",
    "            n_jobs = -1, n_estimators = chunk * 3\n",
    "        ).fit(Xtrain.iloc[:,i:i+chunk], ytrain)\n",
    "        p_imp += permutation_importances(\n",
    "            clf, Xtest.iloc[:,i:i+chunk], ytest, iters = 20,\n",
    "            progress = False\n",
    "        )\n",
    "    return p_imp\n",
    "\n",
    "# Calculate and visualize permutation importances \n",
    "def show_importances(X, y):\n",
    "    imp = batch_importances(X[y >= 0], y[y >= 0], 100)\n",
    "    posimp = sum(i > 1e-10 for i in imp)\n",
    "    plt.rcParams['figure.figsize'] = 20,4\n",
    "    plt.rcParams['font.size'] = 10\n",
    "    plt.bar(\n",
    "        x = range(len(imp)),\n",
    "        height = sorted(imp, reverse = True),\n",
    "        log = True\n",
    "    )\n",
    "    plt.xlim([-1, len(imp)])\n",
    "    plt.title('Feature importances (%d of %d positive)' % (posimp, len(imp)))\n",
    "    plt.grid()\n",
    "    plt.show()\n",
    "    return imp\n",
    "\n",
    "# Visualize the results of GridSearchCV\n",
    "def cv_graph(gs):\n",
    "    plt.rcParams['figure.figsize'] = 5,5\n",
    "    res = pd.DataFrame(gs.cv_results_)\n",
    "    allcols = [\n",
    "        c for c in res.columns \n",
    "        if res[c].dtype == 'O' \n",
    "        and (c.startswith('param_') or c.startswith('param_')) \n",
    "        and len(res[c].unique()) > 1\n",
    "    ]\n",
    "    for cols in combinations(allcols, 2):\n",
    "        plt.scatter(\n",
    "            res[cols[0]], res[cols[1]],\n",
    "            c = res.mean_test_score,\n",
    "            cmap = 'jet', zorder = 10,\n",
    "            s = [300 * (1 - r/len(res))**10 for r in res.rank_test_score]\n",
    "        )\n",
    "        plt.xlabel(cols[0])\n",
    "        plt.ylabel(cols[1])\n",
    "        plt.grid()\n",
    "        plt.show()\n",
    "    return allcols"
   ]
  },
  {
   "cell_type": "markdown",
   "metadata": {},
   "source": [
    "## Country A"
   ]
  },
  {
   "cell_type": "code",
   "execution_count": 4,
   "metadata": {},
   "outputs": [],
   "source": [
    "# Prepare a dataframe for the predictions to be submitted\n",
    "output = pd.DataFrame(columns = ['id','country','poor'])\n",
    "\n",
    "# Prepare the roughly estimate the log loss score of the submission\n",
    "score_n, score_estimate = 0, 0"
   ]
  },
  {
   "cell_type": "code",
   "execution_count": 5,
   "metadata": {},
   "outputs": [
    {
     "name": "stderr",
     "output_type": "stream",
     "text": [
      "Calculating importances in batches: 100%|███████| 7/7 [44:53<00:00, 384.80s/it]\n"
     ]
    },
    {
     "data": {
      "image/png": "[encoded data removed]",
      "text/plain": [
       "<matplotlib.figure.Figure at 0xb366908>"
      ]
     },
     "metadata": {},
     "output_type": "display_data"
    }
   ],
   "source": [
    "# Load data for the country\n",
    "X, y = load_data('A')\n",
    "\n",
    "# Get the feature importances\n",
    "imp = show_importances(X, y)"
   ]
  },
  {
   "cell_type": "code",
   "execution_count": 6,
   "metadata": {},
   "outputs": [],
   "source": [
    "# Put together the model (pipeline of a feature selector and classifier)\n",
    "pipe = Pipeline([\n",
    "    ('selector'  , SelectKBest(scores(imp))),\n",
    "    ('estimator' , GradientBoostingClassifier())\n",
    "])"
   ]
  },
  {
   "cell_type": "code",
   "execution_count": 7,
   "metadata": {},
   "outputs": [
    {
     "name": "stdout",
     "output_type": "stream",
     "text": [
      "Fitting 5 folds for each of 15 candidates, totalling 75 fits\n"
     ]
    },
    {
     "name": "stderr",
     "output_type": "stream",
     "text": [
      "[Parallel(n_jobs=-2)]: Done  26 tasks      | elapsed:   44.5s\n",
      "[Parallel(n_jobs=-2)]: Done  75 out of  75 | elapsed:  2.7min finished\n"
     ]
    },
    {
     "data": {
      "image/png": "[encoded data removed]",
      "text/plain": [
       "<matplotlib.figure.Figure at 0xda54358>"
      ]
     },
     "metadata": {},
     "output_type": "display_data"
    },
    {
     "name": "stdout",
     "output_type": "stream",
     "text": [
      "Best loss 0.273343266724\n",
      "estimator__max_depth : 3\n",
      "estimator__min_samples_split : 60\n"
     ]
    }
   ],
   "source": [
    "# Hyperparameter tuning by cross-validation\n",
    "# (This cell would need to be run many times to fully tune the hyperparameters)\n",
    "gs = GridSearchCV(\n",
    "    estimator = pipe,\n",
    "    param_grid = {\n",
    "        'estimator__learning_rate'     : [.1], \n",
    "        'estimator__max_depth'         : [2,3,4], \n",
    "        'estimator__max_features'      : [18],\n",
    "        'estimator__min_samples_leaf'  : [30], \n",
    "        'estimator__min_samples_split' : [20,40,60,80,100], \n",
    "        'estimator__n_estimators'      : [450],\n",
    "        'estimator__subsample'         : [.8],\n",
    "        'selector__k'                  : [350]        \n",
    "    }, \n",
    "    scoring = 'neg_log_loss', \n",
    "    cv = StratifiedKFold(5, shuffle = True),\n",
    "    n_jobs = -2, \n",
    "    verbose = 3\n",
    ")\n",
    "gs.fit(X[y >= 0], y[y >= 0])\n",
    "\n",
    "allcols = cv_graph(gs)\n",
    "\n",
    "print('Best loss', -gs.best_score_)\n",
    "for c in allcols:\n",
    "    c_ = c.replace('param_','')\n",
    "    print(c_, ':', gs.best_params_[c_])"
   ]
  },
  {
   "cell_type": "code",
   "execution_count": 8,
   "metadata": {},
   "outputs": [],
   "source": [
    "# Make the predictions for country A\n",
    "clf = gs.best_estimator_\n",
    "X['poor'] = clf.predict_proba(X)[:,1]\n",
    "output = output.append(\n",
    "    X[y < 0][['poor']].reset_index(), \n",
    "    ignore_index = True\n",
    ")"
   ]
  },
  {
   "cell_type": "code",
   "execution_count": 9,
   "metadata": {},
   "outputs": [],
   "source": [
    "# Update the estimated log loss score\n",
    "score_n += sum(y < 0)\n",
    "score_estimate += -gs.best_score_ * sum(y < 0)"
   ]
  },
  {
   "cell_type": "markdown",
   "metadata": {},
   "source": [
    "## Country B"
   ]
  },
  {
   "cell_type": "code",
   "execution_count": 11,
   "metadata": {
    "scrolled": true
   },
   "outputs": [
    {
     "name": "stderr",
     "output_type": "stream",
     "text": [
      "Calculating importances in batches: 100%|███| 29/29 [2:10:36<00:00, 270.24s/it]\n"
     ]
    },
    {
     "data": {
      "image/png": "[encoded data removed]",
      "text/plain": [
       "<matplotlib.figure.Figure at 0xd899940>"
      ]
     },
     "metadata": {},
     "output_type": "display_data"
    }
   ],
   "source": [
    "# Repeat all of the above for country B\n",
    "X, y = load_data('B')\n",
    "imp = show_importances(X, y)"
   ]
  },
  {
   "cell_type": "code",
   "execution_count": 12,
   "metadata": {},
   "outputs": [],
   "source": [
    "pipe = Pipeline([\n",
    "    ('selector'  , SelectKBest(scores(imp))),\n",
    "    ('estimator' , GradientBoostingClassifier())\n",
    "])"
   ]
  },
  {
   "cell_type": "code",
   "execution_count": 13,
   "metadata": {},
   "outputs": [
    {
     "name": "stdout",
     "output_type": "stream",
     "text": [
      "Fitting 5 folds for each of 20 candidates, totalling 100 fits\n"
     ]
    },
    {
     "name": "stderr",
     "output_type": "stream",
     "text": [
      "[Parallel(n_jobs=-2)]: Done  26 tasks      | elapsed:   10.9s\n",
      "[Parallel(n_jobs=-2)]: Done 100 out of 100 | elapsed:   40.2s finished\n"
     ]
    },
    {
     "data": {
      "image/png": "[encoded data removed]",
      "text/plain": [
       "<matplotlib.figure.Figure at 0x10eb4b38>"
      ]
     },
     "metadata": {},
     "output_type": "display_data"
    },
    {
     "name": "stdout",
     "output_type": "stream",
     "text": [
      "Best loss 0.193455785469\n",
      "estimator__max_depth : 4\n",
      "estimator__min_samples_split : 500\n"
     ]
    }
   ],
   "source": [
    "gs = GridSearchCV(\n",
    "    estimator = pipe,\n",
    "    param_grid = {\n",
    "        'estimator__learning_rate'     : [.1], \n",
    "        'estimator__max_depth'         : [2,3,4,5], \n",
    "        'estimator__max_features'      : [20],\n",
    "        'estimator__min_samples_leaf'  : [300], \n",
    "        'estimator__min_samples_split' : [100,200,300,400,500], \n",
    "        'estimator__n_estimators'      : [190], \n",
    "        'estimator__subsample'         : [.95],\n",
    "        'selector__k'                  : [400],        \n",
    "    }, \n",
    "    scoring = 'neg_log_loss', \n",
    "    cv = StratifiedKFold(5, shuffle = True),\n",
    "    n_jobs = -2, \n",
    "    verbose = 3\n",
    ")\n",
    "gs.fit(X[y >= 0], y[y >= 0])\n",
    "\n",
    "allcols = cv_graph(gs)\n",
    "\n",
    "print('Best loss', -gs.best_score_)\n",
    "for c in allcols:\n",
    "    c_ = c.replace('param_','')\n",
    "    print(c_, ':', gs.best_params_[c_])"
   ]
  },
  {
   "cell_type": "code",
   "execution_count": 14,
   "metadata": {},
   "outputs": [],
   "source": [
    "clf = gs.best_estimator_\n",
    "X['poor'] = clf.predict_proba(X)[:,1]\n",
    "output = output.append(\n",
    "    X[y < 0][['poor']].reset_index(), \n",
    "    ignore_index = True\n",
    ")"
   ]
  },
  {
   "cell_type": "code",
   "execution_count": 15,
   "metadata": {},
   "outputs": [],
   "source": [
    "score_n += sum(y < 0)\n",
    "score_estimate += -gs.best_score_ * sum(y < 0)"
   ]
  },
  {
   "cell_type": "markdown",
   "metadata": {},
   "source": [
    "## Country C"
   ]
  },
  {
   "cell_type": "code",
   "execution_count": 16,
   "metadata": {},
   "outputs": [
    {
     "name": "stderr",
     "output_type": "stream",
     "text": [
      "Calculating importances in batches: 100%|███| 18/18 [1:16:00<00:00, 253.39s/it]\n"
     ]
    },
    {
     "data": {
      "image/png": "[encoded data removed]",
      "text/plain": [
       "<matplotlib.figure.Figure at 0x10c0fbe0>"
      ]
     },
     "metadata": {},
     "output_type": "display_data"
    }
   ],
   "source": [
    "# Repeat all of the above for country C\n",
    "X, y = load_data('C')\n",
    "imp = show_importances(X, y)"
   ]
  },
  {
   "cell_type": "code",
   "execution_count": 17,
   "metadata": {},
   "outputs": [],
   "source": [
    "pipe = Pipeline([\n",
    "    ('selector'  , SelectKBest(scores(imp))),\n",
    "    ('estimator' , GradientBoostingClassifier())\n",
    "])"
   ]
  },
  {
   "cell_type": "code",
   "execution_count": 18,
   "metadata": {},
   "outputs": [
    {
     "name": "stdout",
     "output_type": "stream",
     "text": [
      "Fitting 5 folds for each of 20 candidates, totalling 100 fits\n"
     ]
    },
    {
     "name": "stderr",
     "output_type": "stream",
     "text": [
      "[Parallel(n_jobs=-2)]: Done  26 tasks      | elapsed:   18.3s\n",
      "[Parallel(n_jobs=-2)]: Done 100 out of 100 | elapsed:  1.5min finished\n"
     ]
    },
    {
     "data": {
      "image/png": "[encoded data removed]",
      "text/plain": [
       "<matplotlib.figure.Figure at 0xe0e42e8>"
      ]
     },
     "metadata": {},
     "output_type": "display_data"
    },
    {
     "name": "stdout",
     "output_type": "stream",
     "text": [
      "Best loss 0.0163713251645\n",
      "estimator__max_depth : 3\n",
      "estimator__min_samples_split : 200\n"
     ]
    }
   ],
   "source": [
    "gs = GridSearchCV(\n",
    "    estimator = pipe,\n",
    "    param_grid = {\n",
    "        'estimator__learning_rate'     : [.1], \n",
    "        'estimator__max_depth'         : [3,4,5,6], \n",
    "        'estimator__max_features'      : [12],\n",
    "        'estimator__min_samples_leaf'  : [50], \n",
    "        'estimator__min_samples_split' : [100,150,200,250,300],\n",
    "        'estimator__n_estimators'      : [140], \n",
    "        'estimator__subsample'         : [.95],\n",
    "        'selector__k'                  : [200],        \n",
    "    }, \n",
    "    scoring = 'neg_log_loss', \n",
    "    cv = StratifiedKFold(5, shuffle = True),\n",
    "    n_jobs = -2, \n",
    "    verbose = 3\n",
    ")\n",
    "gs.fit(X[y >= 0], y[y >= 0])\n",
    "\n",
    "allcols = cv_graph(gs)\n",
    "\n",
    "print('Best loss', -gs.best_score_)\n",
    "for c in allcols:\n",
    "    c_ = c.replace('param_','')\n",
    "    print(c_, ':', gs.best_params_[c_])"
   ]
  },
  {
   "cell_type": "code",
   "execution_count": 19,
   "metadata": {},
   "outputs": [],
   "source": [
    "clf = gs.best_estimator_\n",
    "X['poor'] = clf.predict_proba(X)[:,1]\n",
    "output = output.append(\n",
    "    X[y < 0][['poor']].reset_index(), \n",
    "    ignore_index = True\n",
    ")"
   ]
  },
  {
   "cell_type": "code",
   "execution_count": 20,
   "metadata": {},
   "outputs": [],
   "source": [
    "score_n += sum(y < 0)\n",
    "score_estimate += -gs.best_score_ * sum(y < 0)"
   ]
  },
  {
   "cell_type": "markdown",
   "metadata": {},
   "source": [
    "## Exporting the predictions to be submitted"
   ]
  },
  {
   "cell_type": "code",
   "execution_count": 21,
   "metadata": {},
   "outputs": [
    {
     "name": "stdout",
     "output_type": "stream",
     "text": [
      "Score estimate: 0.166107182294\n"
     ]
    }
   ],
   "source": [
    "# The submission's estimated log loss score is a \n",
    "# weighed average of the cross-validation scores\n",
    "print('Score estimate:', score_estimate / score_n)"
   ]
  },
  {
   "cell_type": "code",
   "execution_count": 22,
   "metadata": {},
   "outputs": [],
   "source": [
    "# Find the largest submission file number already used\n",
    "last = max(\n",
    "    int(f.split('.')[0].strip('attempt')) for f in listdir() \n",
    "    if f.startswith('attempt')\n",
    ")\n",
    "\n",
    "# Output the current predictions with a new file name (e.g. `attempt008.csv`)\n",
    "output.to_csv('attempt%s.csv' % (str(last + 1).zfill(3)), index = False)"
   ]
  }
 ],
 "metadata": {
  "kernelspec": {
   "display_name": "Python 3",
   "language": "python",
   "name": "python3"
  },
  "language_info": {
   "codemirror_mode": {
    "name": "ipython",
    "version": 3
   },
   "file_extension": ".py",
   "mimetype": "text/x-python",
   "name": "python",
   "nbconvert_exporter": "python",
   "pygments_lexer": "ipython3",
   "version": "3.6.4"
  }
 },
 "nbformat": 4,
 "nbformat_minor": 2
}
